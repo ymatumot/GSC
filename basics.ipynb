{
 "cells": [
  {
   "cell_type": "markdown",
   "metadata": {},
   "source": [
    "# Pythonプログラミングの基礎（１０月８日、１５日）\n",
    "本章では、Pythonプログラミングの文法を学ぶ。\n",
    "<!-- 本ページのnotebookは [こちら](notebooks.rst#python) からダウンロードしてColabにアップロードしてください。 -->\n",
    "下の\"Open in Colab\"アイコンをクリックして、本ページ内容のjupyter notebookをColab上で実行できるようにしよう。\n",
    "\n",
    "[![Open In Colab](https://colab.research.google.com/assets/colab-badge.svg)](http://colab.research.google.com/github/ymatumot/GSC/blob/main/basics.ipynb)\n",
    "\n",
    "Colab上で実行しようとすると、最初に\n",
    "\n",
    "![warning](./img/colab_warning.png)\n",
    "\n",
    "のような警告が出る。問題ないので、「このまま実行」を選択する。以降は、同一セッション内ではこの警告はでない。\n"
   ]
  },
  {
   "cell_type": "markdown",
   "metadata": {},
   "source": [
    "## 変数\n",
    "その他のプログラム言語と同じく、整数、実数（単精度、倍精度）、文字列、などを扱うことが可能である。\n",
    "\n",
    "### 動的変数割付け\n",
    "Pythonは動的割付けなので、FortranやC言語のように予め変数を宣言してメモリを確保する必要がない。"
   ]
  },
  {
   "cell_type": "code",
   "execution_count": 1,
   "metadata": {},
   "outputs": [
    {
     "name": "stdout",
     "output_type": "stream",
     "text": [
      "1.0\n",
      "b\n"
     ]
    }
   ],
   "source": [
    "a = 1.0\n",
    "print(a)\n",
    "a = 'b'\n",
    "print(a)"
   ]
  },
  {
   "cell_type": "markdown",
   "metadata": {},
   "source": [
    "### 変数名の付け方のルール\n",
    "* 先頭の文字はアルファベット\n",
    "* 予約語（and, orなど）は使えない。\n",
    "* 大文字と小文字は区別される"
   ]
  },
  {
   "cell_type": "code",
   "execution_count": 2,
   "metadata": {},
   "outputs": [
    {
     "ename": "SyntaxError",
     "evalue": "invalid syntax (4041883560.py, line 1)",
     "output_type": "error",
     "traceback": [
      "\u001b[0;36m  File \u001b[0;32m\"/tmp/ipykernel_46152/4041883560.py\"\u001b[0;36m, line \u001b[0;32m1\u001b[0m\n\u001b[0;31m    4a = 1.0\u001b[0m\n\u001b[0m     ^\u001b[0m\n\u001b[0;31mSyntaxError\u001b[0m\u001b[0;31m:\u001b[0m invalid syntax\n"
     ]
    }
   ],
   "source": [
    "4a = 1.0"
   ]
  },
  {
   "cell_type": "code",
   "execution_count": 3,
   "metadata": {},
   "outputs": [
    {
     "ename": "SyntaxError",
     "evalue": "invalid syntax (1940014085.py, line 1)",
     "output_type": "error",
     "traceback": [
      "\u001b[0;36m  File \u001b[0;32m\"/tmp/ipykernel_46152/1940014085.py\"\u001b[0;36m, line \u001b[0;32m1\u001b[0m\n\u001b[0;31m    and = 1.0\u001b[0m\n\u001b[0m      ^\u001b[0m\n\u001b[0;31mSyntaxError\u001b[0m\u001b[0;31m:\u001b[0m invalid syntax\n"
     ]
    }
   ],
   "source": [
    "and = 1.0"
   ]
  },
  {
   "cell_type": "code",
   "execution_count": 6,
   "metadata": {},
   "outputs": [
    {
     "name": "stdout",
     "output_type": "stream",
     "text": [
      "1.0 5.0\n"
     ]
    }
   ],
   "source": [
    "A = 1.0\n",
    "a = 5.0\n",
    "print(A,a)"
   ]
  },
  {
   "cell_type": "markdown",
   "metadata": {},
   "source": [
    "### 型変換\n",
    "文字列→実数"
   ]
  },
  {
   "cell_type": "code",
   "execution_count": 7,
   "metadata": {},
   "outputs": [
    {
     "name": "stdout",
     "output_type": "stream",
     "text": [
      "1.03.0 <class 'str'>\n",
      "4.0 <class 'float'>\n"
     ]
    }
   ],
   "source": [
    "a = '1.0' #character\n",
    "b = '3.0' #character\n",
    "print(a+b,type(a+b))\n",
    "print(float(a)+float(b),type(float(a)+float(b))) # to real number"
   ]
  },
  {
   "cell_type": "markdown",
   "metadata": {},
   "source": [
    "実数→文字列"
   ]
  },
  {
   "cell_type": "code",
   "execution_count": 8,
   "metadata": {},
   "outputs": [
    {
     "name": "stdout",
     "output_type": "stream",
     "text": [
      "4.0 <class 'float'>\n",
      "1.03.0 <class 'str'>\n"
     ]
    }
   ],
   "source": [
    "a = 1.0 # real number\n",
    "b = 3.0 # real number\n",
    "print(a+b,type(a+b))\n",
    "print(str(a)+str(b),type(str(a)+str(b))) #to string\n"
   ]
  },
  {
   "cell_type": "markdown",
   "metadata": {},
   "source": [
    "## 算術演算\n",
    "算術演算子は通常通りの使い方である。"
   ]
  },
  {
   "cell_type": "code",
   "execution_count": 9,
   "metadata": {},
   "outputs": [
    {
     "name": "stdout",
     "output_type": "stream",
     "text": [
      "足し算・引き算\n",
      "14.0\n",
      "8.0\n",
      "\n",
      "掛け算、割り算\n",
      "33.0\n",
      "3.6666666666666665\n",
      "\n",
      "べき乗\n",
      "1331.0\n",
      "\n",
      "剰余\n",
      "2.0\n"
     ]
    }
   ],
   "source": [
    "a = 11.0\n",
    "b = 3.0\n",
    "print('足し算・引き算')\n",
    "print(a+b)\n",
    "print(a-b)\n",
    "print()\n",
    "print('掛け算、割り算')\n",
    "print(a*b)\n",
    "print(a/b)\n",
    "print()\n",
    "print('べき乗')\n",
    "print(a**b)\n",
    "print()\n",
    "print('剰余')\n",
    "print(a % b)"
   ]
  },
  {
   "cell_type": "markdown",
   "metadata": {},
   "source": [
    "その他、複合演算子を以下にまとめる。総和を計算するときなどに使う。\n",
    "\n",
    "|演算子|説明|\n",
    "|:--:|:--:|\n",
    "| += | 足し算して代入する |\n",
    "| -= | 引き算して代入する |\n",
    "| *= | 掛け算して代入する |\n",
    "| /= | 割り算して代入する |\n",
    "\n",
    "FortranやC言語とは違って、$log$, $sin$, $cos$, $exp$ などはPythonの組み込み関数としては用意されていない。通常はライブラリをインポートして使う（後に説明）。"
   ]
  },
  {
   "cell_type": "markdown",
   "metadata": {},
   "source": [
    "## 組み込みオブジェクト型\n",
    "実数、整数、文字列に加え、Pythonには組み込みオブジェクト型というのが用意されている。\n",
    "\n",
    "実数などの変数は数値のみを記憶する。また関数は定義された処理を返す役割がある。オブジェクトというのは、変数などのデータとそれに対する操作（関数）を一つにまとめた単位をいう。このようなデータと命令を一つにまとめてプログラムを組むことを**オブジェクト指向プログラミング**という。\n",
    "\n",
    "オブジェクトのデータに対する操作をメソッドといい、以下のようにピリオドをつけて表現する。\n",
    "\n",
    "```python\n",
    "data.method(arg1, arg2, ,,,)\n",
    "```\n",
    "\n",
    "以下では、Pythonの組み込み型オブジェクトでよく使われる「リスト」、「タプル」、「辞書」を紹介する。"
   ]
  },
  {
   "cell_type": "markdown",
   "metadata": {},
   "source": [
    "### リスト\n",
    "リストとは複数のデータを並べて管理するデータ型である。FortranやC言語の配列に近い。"
   ]
  },
  {
   "cell_type": "code",
   "execution_count": 10,
   "metadata": {},
   "outputs": [
    {
     "name": "stdout",
     "output_type": "stream",
     "text": [
      "[0, 1, 2, 3, 4]\n"
     ]
    }
   ],
   "source": [
    "a = [0,1,2,3,4]\n",
    "print(a)"
   ]
  },
  {
   "cell_type": "markdown",
   "metadata": {},
   "source": [
    "FortranやC言語の配列と違うのは、違う型のデータも一緒に格納することができるのである。"
   ]
  },
  {
   "cell_type": "code",
   "execution_count": 11,
   "metadata": {},
   "outputs": [
    {
     "name": "stdout",
     "output_type": "stream",
     "text": [
      "[0, 'a', '2.3']\n"
     ]
    }
   ],
   "source": [
    "b = [0,'a','2.3']\n",
    "print(b)"
   ]
  },
  {
   "cell_type": "markdown",
   "metadata": {},
   "source": [
    "リストを連結して一つのリストにすることもできる。"
   ]
  },
  {
   "cell_type": "code",
   "execution_count": 12,
   "metadata": {},
   "outputs": [
    {
     "name": "stdout",
     "output_type": "stream",
     "text": [
      "[0, 1, 2, 3, 4, 0, 'a', '2.3']\n"
     ]
    }
   ],
   "source": [
    "c = a+b\n",
    "print(c)"
   ]
  },
  {
   "cell_type": "markdown",
   "metadata": {},
   "source": [
    "インデックスを指定して、リストの各要素へアクセスすることができる。Pythonでは、C言語と同じく（Fortranと違って）インデックスは0から始まる。"
   ]
  },
  {
   "cell_type": "code",
   "execution_count": 13,
   "metadata": {},
   "outputs": [
    {
     "name": "stdout",
     "output_type": "stream",
     "text": [
      "3\n",
      "replaced\n"
     ]
    }
   ],
   "source": [
    "print(c[3])\n",
    "c[3]='replaced'\n",
    "print(c[3])"
   ]
  },
  {
   "cell_type": "markdown",
   "metadata": {},
   "source": [
    "リストの長さを調べる組み込み関数に`len()`がある。"
   ]
  },
  {
   "cell_type": "code",
   "execution_count": 14,
   "metadata": {},
   "outputs": [
    {
     "name": "stdout",
     "output_type": "stream",
     "text": [
      "8\n"
     ]
    }
   ],
   "source": [
    "print(len(c))"
   ]
  },
  {
   "cell_type": "markdown",
   "metadata": {},
   "source": [
    "多次元のリストも作ることができる。リストのリストみたいな形になっている。"
   ]
  },
  {
   "cell_type": "code",
   "execution_count": 15,
   "metadata": {},
   "outputs": [
    {
     "name": "stdout",
     "output_type": "stream",
     "text": [
      "[2, 3, 5]\n",
      "[4, 3, 2]\n"
     ]
    }
   ],
   "source": [
    "dd = [ [2,3,5],\n",
    "       [4,3,2]]\n",
    "print(dd[0])\n",
    "print(dd[1])"
   ]
  },
  {
   "cell_type": "markdown",
   "metadata": {},
   "source": [
    "#### スライス\n",
    "リスト（後に説明する配列でも同様）のある範囲を指定するのには、スライスを利用する。指定の仕方は、\n",
    "\n",
    "```python\n",
    "リスト名[最初の要素のインデックス:最後の要素のインデックス+1]\n",
    "```\n",
    "\n",
    "のように表記する。Fortran及びC言語に慣れた人は、最後の要素の指定の仕方（+1をする）で最初は混乱するかもしれないので、注意したい。"
   ]
  },
  {
   "cell_type": "code",
   "execution_count": 16,
   "metadata": {},
   "outputs": [
    {
     "name": "stdout",
     "output_type": "stream",
     "text": [
      "[0, 1, 2, 'replaced', 4, 0, 'a', '2.3']\n",
      "[4, 0, 'a']\n"
     ]
    }
   ],
   "source": [
    "print(c)\n",
    "print(c[4:7]) # specify indices 4-6"
   ]
  },
  {
   "cell_type": "markdown",
   "metadata": {},
   "source": [
    "その他、いろいろなスライスの指定の仕方がある。"
   ]
  },
  {
   "cell_type": "code",
   "execution_count": 17,
   "metadata": {},
   "outputs": [
    {
     "name": "stdout",
     "output_type": "stream",
     "text": [
      "[4, 0, 'a', '2.3']\n",
      "2.3\n",
      "[4, 0, 'a']\n",
      "[0, 2, 4]\n"
     ]
    }
   ],
   "source": [
    "print(c[4:]) # index 4 and later\n",
    "print(c[-1]) # can specify the last element without knowing the length of the list\n",
    "print(c[-4:-1]) # specify the last four elements without the last one\n",
    "print(c[0:5:2]) # specify every 2 elements"
   ]
  },
  {
   "cell_type": "markdown",
   "metadata": {},
   "source": [
    "#### メソッド\n",
    "listはオブジェクト型なのでメソッドが用意されている。以下ではよく使用する（個人的経験）メソッドを紹介する。\n",
    "\n",
    "* sort 要素を要素の値の小さい方から順に並べ替える"
   ]
  },
  {
   "cell_type": "code",
   "execution_count": 18,
   "metadata": {},
   "outputs": [
    {
     "name": "stdout",
     "output_type": "stream",
     "text": [
      "[5, 2, 71, 3, 4, 20, 111, 3]\n",
      "[2, 3, 3, 4, 5, 20, 71, 111]\n"
     ]
    }
   ],
   "source": [
    "a = [5,2,71,3,4,20,111,3]\n",
    "print(a)\n",
    "a.sort()\n",
    "print(a)"
   ]
  },
  {
   "cell_type": "markdown",
   "metadata": {},
   "source": [
    "* append　リストに新たな要素を付け加える。"
   ]
  },
  {
   "cell_type": "code",
   "execution_count": 19,
   "metadata": {},
   "outputs": [
    {
     "name": "stdout",
     "output_type": "stream",
     "text": [
      "[2, 3, 3, 4, 5, 20, 71, 111]\n",
      "[2, 3, 3, 4, 5, 20, 71, 111, 'appeneded text']\n"
     ]
    }
   ],
   "source": [
    "print(a)\n",
    "a.append('appeneded text')\n",
    "print(a)"
   ]
  },
  {
   "cell_type": "markdown",
   "metadata": {},
   "source": [
    "最初に空のリストを作って、後からデータを付け加えることができる。"
   ]
  },
  {
   "cell_type": "code",
   "execution_count": 20,
   "metadata": {},
   "outputs": [
    {
     "name": "stdout",
     "output_type": "stream",
     "text": [
      "[]\n",
      "[25.0]\n"
     ]
    }
   ],
   "source": [
    "a = list()\n",
    "print(a)\n",
    "a.append(25.0)\n",
    "print(a)"
   ]
  },
  {
   "cell_type": "markdown",
   "metadata": {},
   "source": [
    "* extend リストに新たな複数の要素を付け加える。"
   ]
  },
  {
   "cell_type": "code",
   "execution_count": 21,
   "metadata": {},
   "outputs": [
    {
     "name": "stdout",
     "output_type": "stream",
     "text": [
      "[25.0, 'appended text again', 5.0]\n"
     ]
    }
   ],
   "source": [
    "a.extend(['appended text again',5.0])\n",
    "print(a)"
   ]
  },
  {
   "cell_type": "markdown",
   "metadata": {},
   "source": [
    "### タプル\n",
    "タプルはリストに似た構造を持つが、一度定義した内容を後から変更できないのがリストと違う。利用する場面は少ないように思うが、ディープラーニングの学習データを格納するのに使われるので、以下に簡単に説明する。"
   ]
  },
  {
   "cell_type": "code",
   "execution_count": 22,
   "metadata": {},
   "outputs": [
    {
     "name": "stdout",
     "output_type": "stream",
     "text": [
      "(3, 4.0, 'tuple', 2, 9)\n",
      "tuple\n"
     ]
    },
    {
     "ename": "TypeError",
     "evalue": "'tuple' object does not support item assignment",
     "output_type": "error",
     "traceback": [
      "\u001b[0;31m---------------------------------------------------------------------------\u001b[0m",
      "\u001b[0;31mTypeError\u001b[0m                                 Traceback (most recent call last)",
      "\u001b[0;32m/tmp/ipykernel_46152/358849042.py\u001b[0m in \u001b[0;36m<module>\u001b[0;34m\u001b[0m\n\u001b[1;32m      2\u001b[0m \u001b[0mprint\u001b[0m\u001b[0;34m(\u001b[0m\u001b[0ma\u001b[0m\u001b[0;34m)\u001b[0m\u001b[0;34m\u001b[0m\u001b[0;34m\u001b[0m\u001b[0m\n\u001b[1;32m      3\u001b[0m \u001b[0mprint\u001b[0m\u001b[0;34m(\u001b[0m\u001b[0ma\u001b[0m\u001b[0;34m[\u001b[0m\u001b[0;34m-\u001b[0m\u001b[0;36m3\u001b[0m\u001b[0;34m]\u001b[0m\u001b[0;34m)\u001b[0m\u001b[0;34m\u001b[0m\u001b[0;34m\u001b[0m\u001b[0m\n\u001b[0;32m----> 4\u001b[0;31m \u001b[0ma\u001b[0m\u001b[0;34m[\u001b[0m\u001b[0;36m4\u001b[0m\u001b[0;34m]\u001b[0m \u001b[0;34m=\u001b[0m \u001b[0;36m1.0\u001b[0m \u001b[0;31m# cannot replace with a new value\u001b[0m\u001b[0;34m\u001b[0m\u001b[0;34m\u001b[0m\u001b[0m\n\u001b[0m",
      "\u001b[0;31mTypeError\u001b[0m: 'tuple' object does not support item assignment"
     ]
    }
   ],
   "source": [
    "a = (3, 4.0, 'tuple',2,9)\n",
    "print(a)\n",
    "print(a[-3])\n",
    "a[4] = 1.0 # cannot replace with a new value"
   ]
  },
  {
   "cell_type": "markdown",
   "metadata": {},
   "source": [
    "### 辞書\n",
    "リストは複数のデータと一つにまとめて取り扱えるため便利である。しかし、リストの中身の数が大きくなると、どこにどのデータが入っているかわからなくなってくる。そこで便利なのが、辞書型のデータである。\n",
    "\n",
    "リストでは各要素のインデックスを指定しないと値を取り出せないのに対して、辞書ではデータとキーを一対一に対応付けさせることで、キー（key）でデータ（value）を取り出すことが可能である。与え方は、\n",
    "\n",
    "```python\n",
    "変数 = {key1:value1, key2:value2, ...}\n",
    "```\n",
    "\n",
    "のようである。また、値を参照したいときは、 `変数['key2']` のようにして参照する。"
   ]
  },
  {
   "cell_type": "code",
   "execution_count": 23,
   "metadata": {},
   "outputs": [
    {
     "name": "stdout",
     "output_type": "stream",
     "text": [
      "60\n",
      "Alice\n",
      "70\n"
     ]
    }
   ],
   "source": [
    "ken = {'height':170, 'weight':60, 'gender':'male', 'name':'Ken'}\n",
    "alice = {'height':165, 'weight':55, 'gender':'female', 'name':'Alice'}\n",
    "\n",
    "print(ken['weight'])\n",
    "print(alice['name'])\n",
    "\n",
    "ken['weight'] = 70\n",
    "print(ken['weight'])"
   ]
  },
  {
   "cell_type": "markdown",
   "metadata": {},
   "source": [
    "#### メソッド\n",
    "ディクショナリにもメソッドが用意されている。以下ではその仕様例を示す。\n",
    "\n",
    "* keys 登録されているキーの一覧を返す。"
   ]
  },
  {
   "cell_type": "code",
   "execution_count": 24,
   "metadata": {},
   "outputs": [
    {
     "name": "stdout",
     "output_type": "stream",
     "text": [
      "dict_keys(['height', 'weight', 'gender', 'name'])\n"
     ]
    }
   ],
   "source": [
    "print(ken.keys())"
   ]
  },
  {
   "cell_type": "markdown",
   "metadata": {},
   "source": [
    "* values 登録されている値の一覧を返す。"
   ]
  },
  {
   "cell_type": "code",
   "execution_count": 25,
   "metadata": {},
   "outputs": [
    {
     "name": "stdout",
     "output_type": "stream",
     "text": [
      "dict_values([165, 55, 'female', 'Alice'])\n"
     ]
    }
   ],
   "source": [
    "print(alice.values())"
   ]
  },
  {
   "cell_type": "markdown",
   "metadata": {},
   "source": [
    "## ループ\n",
    "### for文\n",
    "繰り返し同じ作業を簡単に行うために、ループという仕組みを使う。FortranやC言語でいうところの、\n",
    "\n",
    "Fortran:\n",
    "```fortran\n",
    "a=0\n",
    "do i=1,n\n",
    "   a = a+i\n",
    "end do\n",
    "```\n",
    "\n",
    "C:\n",
    "```c\n",
    "a=0;\n",
    "for(i=0;i<n,i++){\n",
    "   a += i+1;\n",
    "}\n",
    "```\n",
    "\n",
    "のような処理のことをループという。上記リストや辞書（や後に説明する配列）などと組み合わせて頻繁に利用する処理である。一定の回数繰り返す場合は`for`文を使う。書式は、\n",
    "\n",
    "```python\n",
    "for 繰り返し変数　in シーケンス:\n",
    "(indent->) ループ内で処理するブロック\n",
    "```\n",
    "\n",
    "のようである。ここで、シーケンスとはリストや辞書などの複数の要素を持つデータ型である。for文の最後に\":\"をつける。改行した次の行以降は**インデント（４文字）を挿入する必要があるのがPythonでのお約束**である（jupyter notebook, colab, VSCodeなどのテキストエディタは\":\"の後に改行すると自動的にインデント入れてくれる）。インデントされた範囲をブロックといい、ブロックが繰り返し処理の対象となる。\n",
    "\n",
    "以下では、シーケンスとしてリストや辞書を使った場合の具体例を見ていこう。"
   ]
  },
  {
   "cell_type": "code",
   "execution_count": 26,
   "metadata": {},
   "outputs": [
    {
     "name": "stdout",
     "output_type": "stream",
     "text": [
      "26\n",
      "26\n"
     ]
    }
   ],
   "source": [
    "#Loop example with a list\n",
    "list_example = [7,3,1,5,9,1]\n",
    "a=0\n",
    "for i in list_example:\n",
    "    a += i\n",
    "print(a)\n",
    "print(sum(list_example)) #summation of list"
   ]
  },
  {
   "cell_type": "markdown",
   "metadata": {},
   "source": [
    "辞書をシーケンスとする場合はキーが一つ一つ抜き出され繰り返し変数に格納される。それをキーとして値を取り出す。"
   ]
  },
  {
   "cell_type": "code",
   "execution_count": 27,
   "metadata": {},
   "outputs": [
    {
     "name": "stdout",
     "output_type": "stream",
     "text": [
      "60\n",
      "170\n",
      "Male\n",
      "Bob\n"
     ]
    }
   ],
   "source": [
    "#Loop example with a dictionary\n",
    "dict_example = {'weight':60, 'height':170, 'gender':'Male', 'name':'Bob'}\n",
    "for attrb in dict_example:\n",
    "    print(dict_example[attrb])"
   ]
  },
  {
   "cell_type": "markdown",
   "metadata": {},
   "source": [
    "`range()`関数を使ったループの例を示す。上記FortranやC言語のループの利用例のように、インデックスを変えて一定回数ループを回す時に使う。`range()`関数は\n",
    "\n",
    "``` python\n",
    "range(始まり, 終わり+1, 刻み幅)\n",
    "```\n",
    "\n",
    "のように引数を渡す。「始まり」を与えなければ0から始まり、「刻み幅」を与えなければ、1づつ増える。"
   ]
  },
  {
   "cell_type": "code",
   "execution_count": 28,
   "metadata": {},
   "outputs": [
    {
     "name": "stdout",
     "output_type": "stream",
     "text": [
      "1\n",
      "2\n",
      "3\n",
      "4\n",
      "5\n",
      "6\n",
      "7\n",
      "8\n",
      "9\n",
      "10\n",
      "sum: 55\n"
     ]
    }
   ],
   "source": [
    "#Loop example with range() function\n",
    "a=0\n",
    "for i in range(1,11):\n",
    "    a += i\n",
    "    print(i)\n",
    "print('sum:',a)"
   ]
  },
  {
   "cell_type": "markdown",
   "metadata": {},
   "source": [
    "## 分岐処理\n",
    "### if文\n",
    "以下では、if文による分岐処理の使い方を説明する。全体的な構造は```for```文と同じで、\":\"以降をインデントを挿入して、ブロック内に分岐後の処理を記述する。\n",
    "\n",
    "```python\n",
    "if 条件式:\n",
    "(indent->) 条件式を満たした場合の処理\n",
    "```\n",
    "\n",
    "ここで、条件式には比較演算や論理演算が含まれる。以下にそれらをまとめる。\n",
    "\n",
    "|演算子|例|条件|\n",
    "|:--:|:--:|:---|\n",
    "| == | a == b | aとbが等しい |\n",
    "| != | a != b | aはbと異なる |\n",
    "| >  | a > b | aはbより大きい|\n",
    "| <  | a < b | aはbより小さい|\n",
    "| >= | a >= b | aはbと等しいか大きい|\n",
    "| <= | a <= b | aはbと等しいか小さい|\n",
    "| in | a in b | aという要素がb（シーケンス）に存在する|\n",
    "| and | a==b and a > 0 | aとbが等しいかつaは正の値である|\n",
    "| or | a==b or a > 0 | aとbが等しいまたはaは正の値である|\n",
    "| not | not (a>0 or b>0) | aかつbが負の値である|\n",
    "\n",
    "その他のプログラム言語同様、`if ... else`文\n",
    "\n",
    "```python\n",
    "if 条件式:\n",
    "(indent->) 条件式を満たした場合の処理\n",
    "else:\n",
    "(indent->) 条件式を満たさない場合の処理\n",
    "```\n",
    "\n",
    "や`if .. else if`文のような使い方もできる。\n",
    "\n",
    "```python\n",
    "if 条件式１:\n",
    "(indent->) 条件式１を満たした場合の処理\n",
    "elif 条件式２:\n",
    "(indent->) 条件式１を満たさないかつ条件式２を満たした場合の処理\n",
    "```\n",
    "\n",
    "以下では、これら具体例を紹介する。"
   ]
  },
  {
   "cell_type": "code",
   "execution_count": 29,
   "metadata": {},
   "outputs": [
    {
     "name": "stdout",
     "output_type": "stream",
     "text": [
      "b is larger than a\n"
     ]
    }
   ],
   "source": [
    "a = 1.5\n",
    "b = 3.2\n",
    "if a > b:\n",
    "    print('a is larger than b')\n",
    "else:\n",
    "    print('b is larger than a')"
   ]
  },
  {
   "cell_type": "code",
   "execution_count": 30,
   "metadata": {},
   "outputs": [
    {
     "name": "stdout",
     "output_type": "stream",
     "text": [
      "4  is included in  [2, 5, 3, 1, 0, 11, 4]\n",
      "9  is not included in [2, 5, 3, 1, 0, 11, 4]\n"
     ]
    }
   ],
   "source": [
    "a = [2,5,3,1,0,11,4]\n",
    "b = 4\n",
    "c = 9\n",
    "\n",
    "if b in a:\n",
    "    print(b,' is included in ',a)\n",
    "if not (c in a):\n",
    "    print(c, ' is not included in', a)"
   ]
  },
  {
   "cell_type": "markdown",
   "metadata": {},
   "source": [
    "### while文\n",
    "ループの一種であるが、`while`文を使うことで、ある一定の条件式を満たしている間はブロック内の処理を繰り返す。\n",
    "\n",
    "```python\n",
    "while 条件式:\n",
    "(indent->) ループ内で処理するブロック\n",
    "```"
   ]
  },
  {
   "cell_type": "code",
   "execution_count": 31,
   "metadata": {},
   "outputs": [
    {
     "name": "stdout",
     "output_type": "stream",
     "text": [
      "1.0\n",
      "2.0\n",
      "3.0\n",
      "4.0\n",
      "5.0\n",
      "6.0\n",
      "7.0\n",
      "8.0\n",
      "9.0\n",
      "10.0\n",
      "final valule: 10.0\n"
     ]
    }
   ],
   "source": [
    "a = 0.0\n",
    "while a < 10:\n",
    "    a += 1\n",
    "    print(a)\n",
    "print('final valule:',a)"
   ]
  },
  {
   "cell_type": "markdown",
   "metadata": {},
   "source": [
    "## ユーザー関数の定義\n",
    "上記の`len`や`sum`のような関数は、自分でも作成することができる。\n",
    "\n",
    "```python\n",
    "def 関数の名前(引数1, 引数2, ...):\n",
    "(indent->) ブロック\n",
    "          \n",
    "         　return 変数1, 変数2, ...\n",
    "```\n",
    "\n",
    "関数の名前は、その処理に合わせて名前をつける。引数とは、関数に渡す変数である。任意の数だけ並べる。引数はなくてもよい。最後の`return`文は関数が何らかの値を返す場合に最後に付け加える。以下では、リストを引数に渡して平均と分散を返す関数の例を紹介する。"
   ]
  },
  {
   "cell_type": "code",
   "execution_count": 32,
   "metadata": {},
   "outputs": [
    {
     "name": "stdout",
     "output_type": "stream",
     "text": [
      "average of a:  4.75\n",
      "variance of a:  30.4375\n"
     ]
    }
   ],
   "source": [
    "def function_example(input_list):\n",
    "    \n",
    "    n = len(input_list)     #local variable\n",
    "    ave = sum(input_list)/n #local variable\n",
    "    var = 0.0               #local variable\n",
    "    \n",
    "    for i in range(n):\n",
    "        var += (input_list[i]-ave)**2/n\n",
    "    \n",
    "    return ave, var\n",
    "\n",
    "a = [4,2,1,5,3,2,19,2]\n",
    "\n",
    "# receive in this manner when more than one variable is returned\n",
    "a_ave, a_var = function_example(a) \n",
    "print('average of a: ',a_ave)\n",
    "print('variance of a: ',a_var)"
   ]
  },
  {
   "cell_type": "markdown",
   "metadata": {},
   "source": [
    "関数内部で定義される変数を局所変数という（上の例だと、n, ave, var）。これらは外部からは参照することができない。このように、変数を参照できる範囲を**スコープ**という。"
   ]
  },
  {
   "cell_type": "code",
   "execution_count": 33,
   "metadata": {},
   "outputs": [
    {
     "ename": "NameError",
     "evalue": "name 'n' is not defined",
     "output_type": "error",
     "traceback": [
      "\u001b[0;31m---------------------------------------------------------------------------\u001b[0m",
      "\u001b[0;31mNameError\u001b[0m                                 Traceback (most recent call last)",
      "\u001b[0;32m/tmp/ipykernel_46152/2938972457.py\u001b[0m in \u001b[0;36m<module>\u001b[0;34m\u001b[0m\n\u001b[0;32m----> 1\u001b[0;31m \u001b[0mprint\u001b[0m\u001b[0;34m(\u001b[0m\u001b[0mn\u001b[0m\u001b[0;34m)\u001b[0m\u001b[0;34m\u001b[0m\u001b[0;34m\u001b[0m\u001b[0m\n\u001b[0m",
      "\u001b[0;31mNameError\u001b[0m: name 'n' is not defined"
     ]
    }
   ],
   "source": [
    "print(n)"
   ]
  },
  {
   "cell_type": "markdown",
   "metadata": {},
   "source": [
    "## ライブラリのインポート\n",
    "自作した関数などは（例えば上記の関数）はその後も繰り返し使うことがしばしばある。その都度タイプするのは面倒なので、書いたコードをファイルに保存しておくことが一般的である。同じような機能を持つ複数の関数など一つにまとめたものを**モジュール**という。また複数のモジュールのまとまりを**パッケージ**という。モジュールやパッケージなどのコレクションを総じて**ライブラリ**という。以下ではPythonで予め用意されている標準ライブラリやその中に含まれるモジュールの使い方を紹介する。\n",
    "\n",
    "モジュールの取り込み方は\n",
    "\n",
    "```python\n",
    "import モジュール名\n",
    "```\n",
    "\n",
    "のようにして行う。モジュールに含まれる関数などはこの一文によってすべて取り込まれる。また、大きなライブラリを利用する場合は\n",
    "\n",
    "```python\n",
    "import パッケージ名.モジュール名\n",
    "```\n",
    "\n",
    "のように行う場合がある。パッケージの実態はモジュールを格納するディレクトリで、OSのディレクトリを指定する\"/\"のように、ピリオド\".\"で階層を表している。"
   ]
  },
  {
   "cell_type": "markdown",
   "metadata": {},
   "source": [
    "また、以下のようにしてモジュールに別名を充てることも可能である。\n",
    "\n",
    "```python\n",
    "import モジュール名 as 別名\n",
    "```\n",
    "\n",
    "または\n",
    "\n",
    "```python\n",
    "import パッケージ名.モジュール名 as 別名\n",
    "```\n",
    "\n",
    "のようにして、長いモジュール名に短く省略化した名前を充てることがしばしばある（後述するライブラリnumpyをnp、matplotlib.pyplotをpltなど）。\n",
    "\n",
    "それでも少し長ったらしいと感じる場合は、\n",
    "\n",
    "```python\n",
    "from モジュール名 import クラス名や関数名\n",
    "```\n",
    "\n",
    "のようにしてインポートすると、直接関数名を指定して使うことができる。ただし、この場合は他のライブラリから同様にインポートした関数（やクラス）と名前が重ならないことを注意する必要がある。\n",
    "\n",
    "このように、Pythonはそのままでは機能としては限られているが、必要な機能をその都度`import`することでパワーアップさせるような思想に基づいて設計されている。標準ライブラリに加え、多くの分野に渡ったライブラリが存在するため、Python言語をハブとして様々なことをソフトウェアとして実現できるのが特徴であると言えよう。いわば、**Pythonはソフトウェア開発におけるOS**のような役割を果たしていると言える。\n",
    "\n",
    "以下では、Pythonの標準ライブラリのうち（たくさんある）、**math**モジュールを例に使い方を紹介する。"
   ]
  },
  {
   "cell_type": "markdown",
   "metadata": {},
   "source": [
    "### math\n",
    "数学関数を揃えたモジュール。Pythonの標準機能には対数などのちょっと高度な数学関数が備わっていないため、使用するためにはmathモジュールをインポートする必要がある（実際には、後述のnumpyライブラリをインポートすることが多い）。"
   ]
  },
  {
   "cell_type": "code",
   "execution_count": 34,
   "metadata": {},
   "outputs": [
    {
     "name": "stdout",
     "output_type": "stream",
     "text": [
      "sqrt(2): 1.4142135623730951\n",
      "pi: 3.141592653589793\n",
      "theta [rad]: 0.0  sin(theta): 0.0\n",
      "theta [rad]: 0.6283185307179586  sin(theta): 0.5877852522924731\n",
      "theta [rad]: 1.2566370614359172  sin(theta): 0.9510565162951535\n",
      "theta [rad]: 1.8849555921538759  sin(theta): 0.9510565162951536\n",
      "theta [rad]: 2.5132741228718345  sin(theta): 0.5877852522924732\n",
      "theta [rad]: 3.141592653589793  sin(theta): 1.2246467991473532e-16\n",
      "theta [rad]: 3.7699111843077517  sin(theta): -0.587785252292473\n",
      "theta [rad]: 4.39822971502571  sin(theta): -0.9510565162951535\n",
      "theta [rad]: 5.026548245743669  sin(theta): -0.9510565162951536\n",
      "theta [rad]: 5.654866776461628  sin(theta): -0.5877852522924734\n",
      "theta [rad]: 6.283185307179586  sin(theta): -2.4492935982947064e-16\n"
     ]
    }
   ],
   "source": [
    "import math\n",
    "\n",
    "sq2 = math.sqrt(2.0) #２の平方根\n",
    "print('sqrt(2):',sq2)\n",
    "print('pi:',math.pi) #円周率\n",
    "\n",
    "x = [i/10*2*math.pi for i in range(11)]\n",
    "for angle in x:\n",
    "    print('theta [rad]:',angle,' sin(theta):',math.sin(angle))"
   ]
  },
  {
   "cell_type": "markdown",
   "metadata": {
    "tags": []
   },
   "source": [
    "## 演習課題\n",
    "フィボナッチ数列を求めるプロゴラムを書いてみよう。\n",
    "\n",
    "フィボナッチ数列は、$f_0=0$, $f_1=1$が与えられた時、以下の漸化式\n",
    "\n",
    "$$\n",
    "f_n = f_{n-1}+f_{n-2}\n",
    "$$\n",
    "\n",
    "で与えられる数列で、$0,1,1,2,3,5,8,13,21,34,55$のようである。フィボナッチ数列の一般項$f_n$は、\n",
    "  \n",
    "$$\n",
    "f_n = \\frac{1}{\\sqrt{5}}\\left[ \\left(\\frac{1+\\sqrt{5}}{2} \\right)^n - \\left(\\frac{1-\\sqrt{5}}{2} \\right)^n \\right]\n",
    "$$\n",
    "  \n",
    "で与えられる。このフィボナッチ数列について、以下の２つの方法で計算してみよう。\n",
    "    \n",
    "1. ループを使って漸化式を表し、$f_1 \\sim f_{20}$を求める。\n",
    "2. 一般項を関数として定義して、その関数を使って$f_1 \\sim f_{20}$を求める。\n",
    "\n",
    "1., 2. ができたら、\n",
    "  \n",
    "3. 1、2の方法で求めた整数をリストに格納する\n",
    "4. リストを`print()`で出力\n",
    "    \n",
    "もチャレンジしてみてほしい。\n",
    "  \n",
    "ただし、Pythonの組み込み関数として平方根は与えられていないので、\n",
    "  \n",
    "```python\n",
    "import math\n",
    "sqr2 = math.sqrt(2)\n",
    "```\n",
    "  \n",
    "のようにして使ってください。"
   ]
  },
  {
   "cell_type": "markdown",
   "metadata": {},
   "source": [
    "<div class=\"alert alert-info\">\n",
    "ヒント\n",
    "\n",
    "最初なので、難しすぎるように感じる場合は以下を参考にしてください。プログラムの全体的な構造をヒントとして示しておきます。課題の目的に沿うように必要なプログラムを追加してください。\n",
    "</div>"
   ]
  },
  {
   "cell_type": "markdown",
   "metadata": {},
   "source": [
    "* 漸化式をループで表現する場合"
   ]
  },
  {
   "cell_type": "code",
   "execution_count": null,
   "metadata": {},
   "outputs": [],
   "source": [
    "#最初の２項の値を設定\n",
    "fn1 = [0,1]\n",
    "\n",
    "for i in range(2,21):\n",
    "    #漸化式に従ってfn1に値を追加するプログラムを書く\n",
    "\n",
    "print(fn1)"
   ]
  },
  {
   "cell_type": "markdown",
   "metadata": {},
   "source": [
    "* 一般項を関数として定義する場合"
   ]
  },
  {
   "cell_type": "code",
   "execution_count": null,
   "metadata": {},
   "outputs": [],
   "source": [
    "import math\n",
    "\n",
    "def fibonacci(n=0):\n",
    "\n",
    "    sq5 = math.sqrt(5)\n",
    "    \n",
    "    # 一般項fnを返す関数をここで定義する\n",
    "\n",
    "    return round(fn) #整数に丸める関数round()\n",
    "\n",
    "fn2 = list()\n",
    "for i in range(21):\n",
    "    #ここで関数を読んで、リストであるfn2にデータを格納するプログラムを書く\n",
    "    \n",
    "print(fn2)"
   ]
  }
 ],
 "metadata": {
  "kernelspec": {
   "display_name": "Python 3 (ipykernel)",
   "language": "python",
   "name": "python3"
  },
  "language_info": {
   "codemirror_mode": {
    "name": "ipython",
    "version": 3
   },
   "file_extension": ".py",
   "mimetype": "text/x-python",
   "name": "python",
   "nbconvert_exporter": "python",
   "pygments_lexer": "ipython3",
   "version": "3.7.16"
  }
 },
 "nbformat": 4,
 "nbformat_minor": 4
}
