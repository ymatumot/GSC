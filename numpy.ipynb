{
 "cells": [
  {
   "cell_type": "markdown",
   "metadata": {},
   "source": [
    "# NumPyライブラリ（１０月２２日）\n",
    "<img src=\"https://raw.githubusercontent.com/numpy/numpy/main/branding/logo/primary/numpylogo.png\" width=\"50%\">\n",
    "\n",
    "<!-- 本ページのnotebookは [こちら](notebooks.rst#numpy) からダウンロードしてColabにアップロードしてください。\n",
    " -->\n",
    "下のアイコンをクリック。\n",
    "\n",
    "[![Open In Colab](https://colab.research.google.com/assets/colab-badge.svg)](http://colab.research.google.com/github/ymatumot/GSC/blob/main/numpy.ipynb)\n",
    "\n",
    "前回述べたように、Pythonの標準的機能は簡素化されており、標準ライブラリや拡張ライブラリを取り込む（importする）ことで機能をその都度増強するのがPythonの特徴であると言える。拡張ライブラリの中でも、歴史が古く（ほとんどPythonの発展と共に歩んできた）、データサイエンス分野で必須のライブラリが、今回扱う**NumPy**である。\n",
    "\n",
    "**NumPy**は、配列データのオブジェクトとそのデータに対する数多くの数学的関数やデータ処理を提供するPythonの拡張ライブラリである。このNumPyの配列クラスを**numpy.ndarray**という。\n",
    "\n",
    "一般にプログラムで数値データを取り扱う際には、多次元配列の形で格納しておくのが便利である。Python標準のリストで多次元配列を取り扱うことができるが、リストを使った数値データの処理速度は遅い。NumPyのモジュール群はC言語で実装されており、配列データはFortranやC言語と同じく、メモリ空間上で連続的に配置される。そのため、配列データに対して高速に処理することが可能である。"
   ]
  },
  {
   "cell_type": "markdown",
   "metadata": {},
   "source": [
    "## まずは始めよう"
   ]
  },
  {
   "cell_type": "code",
   "execution_count": 1,
   "metadata": {},
   "outputs": [
    {
     "name": "stdout",
     "output_type": "stream",
     "text": [
      "<class 'numpy.ndarray'>\n",
      "float64\n",
      "[1. 2. 3. 4. 5. 6. 7.]\n"
     ]
    }
   ],
   "source": [
    "#A kind of a magic phrase\n",
    "import numpy as np\n",
    "\n",
    "#Create a ndarray from a list\n",
    "array_data = np.array([1.0,2.0,3.0,4.0,5.0,6.0,7.0])\n",
    "print(type(array_data))\n",
    "print(array_data.dtype)\n",
    "print(array_data)"
   ]
  },
  {
   "cell_type": "markdown",
   "metadata": {},
   "source": [
    "ndarrayの配列に対する操作はPython標準のリストを使って行うよりも高速に処理できる。"
   ]
  },
  {
   "cell_type": "code",
   "execution_count": 2,
   "metadata": {},
   "outputs": [
    {
     "name": "stdout",
     "output_type": "stream",
     "text": [
      "887 µs ± 83.4 µs per loop (mean ± std. dev. of 7 runs, 1000 loops each)\n",
      "4.3 ms ± 237 µs per loop (mean ± std. dev. of 7 runs, 100 loops each)\n",
      "NumPy is ten times faster!\n"
     ]
    }
   ],
   "source": [
    "np_array = np.array(range(1000000))\n",
    "list_array = list(range(1000000))\n",
    "\n",
    "%timeit np.sum(np_array)\n",
    "%timeit sum(list_array)\n",
    "print('NumPy is ten times faster!')"
   ]
  },
  {
   "cell_type": "markdown",
   "metadata": {},
   "source": [
    "## 数学関数\n",
    "配列に対して様々な数学関数が用意されている。例えば、Pythonでは組み込み関数として用意されていない、三角関数や平方根などはNumPyの関数を使うのが標準的である。引数は必ずしもndarrayである必要はない。全てをここで紹介することはできないので、以下では使用例を示す。その他の関数のリストは https://numpy.org/doc/stable/reference/routines.math.html を参照のこと。"
   ]
  },
  {
   "cell_type": "code",
   "execution_count": 3,
   "metadata": {},
   "outputs": [
    {
     "name": "stdout",
     "output_type": "stream",
     "text": [
      "1.4142135623730951\n",
      "5.0\n"
     ]
    }
   ],
   "source": [
    "a = 2.0\n",
    "# square root\n",
    "print(np.sqrt(a))\n",
    "# base-2 logarithm\n",
    "print(np.log2(32.0)) "
   ]
  },
  {
   "cell_type": "markdown",
   "metadata": {},
   "source": [
    "## numpy.ndarray\n",
    "ndarrayの作り方を紹介する。目的に応じて使い分けると良い。\n",
    "\n",
    "### １次元配列\n",
    "リストをndarrayに変換する。\n",
    "\n",
    "```python\n",
    "np.array(list())\n",
    "```"
   ]
  },
  {
   "cell_type": "code",
   "execution_count": 4,
   "metadata": {},
   "outputs": [
    {
     "name": "stdout",
     "output_type": "stream",
     "text": [
      "[0 1 2 3 4 5 6 7 8 9]\n",
      "<class 'numpy.ndarray'>\n",
      "[0 1 2 3 4 5 6 7 8 9]\n",
      "<class 'numpy.ndarray'>\n"
     ]
    }
   ],
   "source": [
    "data = np.array([0,1,2,3,4,5,6,7,8,9])\n",
    "print(data)\n",
    "print(type(data))\n",
    "\n",
    "data = np.array(list(range(10)))\n",
    "print(data)\n",
    "print(type(data))"
   ]
  },
  {
   "cell_type": "markdown",
   "metadata": {},
   "source": [
    "中身を0で初期化して配列を作る。\n",
    "\n",
    "```python\n",
    "np.zeros(配列要素数)\n",
    "```\n",
    "\n",
    "または1で初期化する場合は、\n",
    "\n",
    "```python\n",
    "np.ones(配列要素数)\n",
    "```"
   ]
  },
  {
   "cell_type": "code",
   "execution_count": 5,
   "metadata": {},
   "outputs": [
    {
     "name": "stdout",
     "output_type": "stream",
     "text": [
      "[0. 0. 0. 0. 0. 0. 0. 0. 0. 0.]\n",
      "[1. 1. 1. 1. 1. 1. 1. 1. 1. 1.]\n",
      "Size of array: 10\n"
     ]
    }
   ],
   "source": [
    "data_zero = np.zeros(10)\n",
    "data_one = np.ones(10)\n",
    "print(data_zero)\n",
    "print(data_one)\n",
    "print('Size of array:',len(data_zero)) # can use len function"
   ]
  },
  {
   "cell_type": "markdown",
   "metadata": {},
   "source": [
    "配列のインデックスをそのまま値に入れる。\n",
    "\n",
    "```python\n",
    "np.arange(始めのインデックス, 終わりのインデックス+1, ステップ数)\n",
    "```\n",
    "\n",
    "終わりのインデックスのみを与えれば、始まりが0、ステップ数1が与えられる。"
   ]
  },
  {
   "cell_type": "code",
   "execution_count": 6,
   "metadata": {},
   "outputs": [
    {
     "name": "stdout",
     "output_type": "stream",
     "text": [
      "[ 0  1  2  3  4  5  6  7  8  9 10]\n",
      "[ 2  4  6  8 10]\n"
     ]
    }
   ],
   "source": [
    "# can ommit start and step\n",
    "data = np.arange(11)\n",
    "print(data)\n",
    "\n",
    "# every 2 steps starting the index of 2\n",
    "data = np.arange(2,11,2)\n",
    "print(data)"
   ]
  },
  {
   "cell_type": "markdown",
   "metadata": {},
   "source": [
    "ある値の範囲を指定して配列要素数で線形補間して値を入れる。\n",
    "\n",
    "```python\n",
    "np.linspace(始まりの値, 終わりの値, 要素数)\n",
    "```"
   ]
  },
  {
   "cell_type": "code",
   "execution_count": 7,
   "metadata": {},
   "outputs": [
    {
     "name": "stdout",
     "output_type": "stream",
     "text": [
      "[0.         0.11111111 0.22222222 0.33333333 0.44444444 0.55555556\n",
      " 0.66666667 0.77777778 0.88888889 1.        ]\n"
     ]
    }
   ],
   "source": [
    "# Create an array ranging from 0 to 1 with 10 elements\n",
    "data = np.linspace(0,1,10)\n",
    "print(data)"
   ]
  },
  {
   "cell_type": "markdown",
   "metadata": {},
   "source": [
    "### スライス\n",
    "ndarrayに対してもスライスが使える。"
   ]
  },
  {
   "cell_type": "code",
   "execution_count": 8,
   "metadata": {},
   "outputs": [
    {
     "name": "stdout",
     "output_type": "stream",
     "text": [
      "[0.44444444 0.55555556 0.66666667 0.77777778 0.88888889 1.        ]\n",
      "1.0\n",
      "[0.66666667 0.77777778 0.88888889]\n",
      "[0.         0.22222222 0.44444444]\n"
     ]
    }
   ],
   "source": [
    "print(data[4:]) # index 4 and later\n",
    "print(data[-1]) # can specify the last element without knowing the length of the list\n",
    "print(data[-4:-1]) # specify the last four elements without the last one\n",
    "print(data[0:5:2]) # specify every 2 elements"
   ]
  },
  {
   "cell_type": "markdown",
   "metadata": {
    "tags": []
   },
   "source": [
    "### 多次元配列の作り方\n",
    "Pythonでデータを取り扱うには多次元配列を用意するのが必須である。以下ではNumPyから提供される、`np.zeros()`または`np.ones()`を使って多次元配列を直接用意する方法を紹介する。タプルを使って各次元方向の要素数を指定する。"
   ]
  },
  {
   "cell_type": "code",
   "execution_count": 9,
   "metadata": {},
   "outputs": [
    {
     "name": "stdout",
     "output_type": "stream",
     "text": [
      "[[0. 0. 0.]\n",
      " [0. 0. 0.]\n",
      " [0. 0. 0.]]\n",
      "[[1. 1. 1.]\n",
      " [1. 1. 1.]\n",
      " [1. 1. 1.]]\n"
     ]
    }
   ],
   "source": [
    "data2d_zero = np.zeros((3,3))\n",
    "data2d_one = np.ones((3,3))\n",
    "print(data2d_zero)\n",
    "print(data2d_one)"
   ]
  },
  {
   "cell_type": "markdown",
   "metadata": {},
   "source": [
    "配列の次元と各要素数を確認するには、`shape`データ属性を参照する。"
   ]
  },
  {
   "cell_type": "code",
   "execution_count": 10,
   "metadata": {},
   "outputs": [
    {
     "name": "stdout",
     "output_type": "stream",
     "text": [
      "(3, 3)\n"
     ]
    }
   ],
   "source": [
    "print(data2d_one.shape)"
   ]
  },
  {
   "cell_type": "markdown",
   "metadata": {},
   "source": [
    "### 配列の型の指定\n",
    "配列を作成する際に、オプションに`dytpe`を渡すことで配列要素の型（整数、実数）を指定することができる。ndarrayの型は\n",
    "\n",
    "|型|指定名|\n",
    "|:--:|:--:|\n",
    "|整数（4バイト）| np.int32 |\n",
    "|実数（単精度、4バイト） | np.float32 |\n",
    "|実数（倍精度、8バイト） | np.float64 |\n",
    "\n",
    "その他の型の指定は https://numpy.org/doc/stable/reference/arrays.scalars.html#arrays-scalars-built-in を参照のこと。"
   ]
  },
  {
   "cell_type": "code",
   "execution_count": 11,
   "metadata": {},
   "outputs": [
    {
     "name": "stdout",
     "output_type": "stream",
     "text": [
      "Default creation is with real number float64\n",
      "Now created with integers int32\n"
     ]
    }
   ],
   "source": [
    "data2d = np.zeros((3,3))\n",
    "print('Default creation is with real number',data2d.dtype)\n",
    "data2d = np.zeros((3,3),dtype=np.int32)\n",
    "print('Now created with integers',data2d.dtype)"
   ]
  },
  {
   "cell_type": "markdown",
   "metadata": {},
   "source": [
    "ndarrayの`astype()`メソッドを使うことで、作成済みの配列の方を変換することができる。"
   ]
  },
  {
   "cell_type": "code",
   "execution_count": 12,
   "metadata": {},
   "outputs": [
    {
     "name": "stdout",
     "output_type": "stream",
     "text": [
      "Now coverted to single precision float32\n"
     ]
    }
   ],
   "source": [
    "# Convert to float32 (single precision)\n",
    "data2d = data2d.astype(np.float32)\n",
    "print('Now coverted to single precision',data2d.dtype)"
   ]
  },
  {
   "cell_type": "markdown",
   "metadata": {
    "tags": []
   },
   "source": [
    "## 配列のビューとコピー\n",
    "配列を別の変数に代入することを考える。"
   ]
  },
  {
   "cell_type": "code",
   "execution_count": 13,
   "metadata": {},
   "outputs": [],
   "source": [
    "# This is just a copy of a reference (pointer) to \"a\"\n",
    "a = np.array(range(4)).reshape(2,2)\n",
    "b = a"
   ]
  },
  {
   "cell_type": "markdown",
   "metadata": {},
   "source": [
    "Pythonでは、この書式は配列\"a\"へのメモリへの参照（View）を新たな変数\"b\"にコピーしていることを意味する。従って、"
   ]
  },
  {
   "cell_type": "code",
   "execution_count": 14,
   "metadata": {},
   "outputs": [
    {
     "name": "stdout",
     "output_type": "stream",
     "text": [
      "a\n",
      "[[0 1]\n",
      " [2 3]]\n",
      "b\n",
      "[[0 1]\n",
      " [2 3]]\n",
      "a\n",
      "[[-1 -1]\n",
      " [ 2  3]]\n",
      "b\n",
      "[[-1 -1]\n",
      " [ 2  3]]\n"
     ]
    }
   ],
   "source": [
    "print('a')\n",
    "print(a)\n",
    "print('b')\n",
    "print(b)\n",
    "\n",
    "#Insert 0.0 to row=0 of array a\n",
    "#This also reflects to b\n",
    "a[0,:]=-1.0\n",
    "print('a')\n",
    "print(a)\n",
    "print('b')\n",
    "print(b)"
   ]
  },
  {
   "cell_type": "markdown",
   "metadata": {},
   "source": [
    "のように、配列\"a\"の変更結果が配列\"b\"にも反映される。aの中身を別の変数にコピーしたい場合は`copy()`メソッドを使う。"
   ]
  },
  {
   "cell_type": "code",
   "execution_count": 15,
   "metadata": {},
   "outputs": [
    {
     "name": "stdout",
     "output_type": "stream",
     "text": [
      "a\n",
      "[[0 1]\n",
      " [2 3]]\n",
      "c\n",
      "[[0 1]\n",
      " [2 3]]\n",
      "\n",
      "a\n",
      "[[-1 -1]\n",
      " [ 2  3]]\n",
      "c\n",
      "[[0 1]\n",
      " [2 3]]\n"
     ]
    }
   ],
   "source": [
    "#Copy contents of a to c\n",
    "a = np.array(range(4)).reshape(2,2)\n",
    "c = a.copy()\n",
    "print('a')\n",
    "print(a)\n",
    "print('c')\n",
    "print(c)\n",
    "\n",
    "#Insert 0.0 to row=0 of array a\n",
    "#This does not reflect to c\n",
    "a[0,:]=-1.0\n",
    "print()\n",
    "print('a')\n",
    "print(a)\n",
    "print('c')\n",
    "print(c)"
   ]
  },
  {
   "cell_type": "markdown",
   "metadata": {},
   "source": [
    "## 配列に対する演算\n",
    "### 算術演算\n",
    "ndarrayに対する算術演算は通常の変数と同じようにできる。以下では配列`a`と配列`b`の足し算を考えてみよう。"
   ]
  },
  {
   "cell_type": "code",
   "execution_count": 16,
   "metadata": {},
   "outputs": [
    {
     "name": "stdout",
     "output_type": "stream",
     "text": [
      "elapsed time when using for loop: 2.267122507095337\n",
      "elapsed time when using vector representation: 0.004687786102294922\n"
     ]
    }
   ],
   "source": [
    "nx = 1000\n",
    "ny = 1000\n",
    "a = np.array(range(nx*ny)).reshape(ny,nx)\n",
    "b = np.ones((ny,nx))\n",
    "c = np.zeros((ny,nx))\n",
    "\n",
    "import time\n",
    "\n",
    "#Addition by using for loop\n",
    "st = time.time()\n",
    "for j in range(ny):\n",
    "    for i in range(nx):\n",
    "        c[j,i] = a[j,i]+b[j,i]\n",
    "et = time.time()\n",
    "print('elapsed time when using for loop:',et-st)\n",
    "\n",
    "#Addition by vector representation\n",
    "st = time.time()\n",
    "c = a+b\n",
    "et = time.time()\n",
    "print('elapsed time when using vector representation:',et-st)"
   ]
  },
  {
   "cell_type": "markdown",
   "metadata": {},
   "source": [
    "上記では`for`文を使って各要素ごとに足すやり方と`c=a+b`という風に1行で足し算をスカラ変数と同じように記述する方法を比較した。`a`も`b`も共にndarrayなので、これらに対する算術演算はc言語と同じ速さで実行されるが、`for`文を使うと、毎回命令を解釈する（interpret）Pythonの悪い点が出て\n",
    "しまい、実行速度は`c=a+b`の様に記述する場合と比べて極端に遅くなる。後者の表現を**ベクトル形式**という。ndarrayに対する算術演算はできる限り`for`文を避けてベクトル形式で実行するようにプログラミングするのが基本である。しかし、複雑な処理をする場合はどうしても`for`文を使わざるを得ない場合があり、その場合はPythonはndarrayを使っても処理速度がFortranやC言語に比べて極端に遅くなることに注意したい。"
   ]
  },
  {
   "cell_type": "markdown",
   "metadata": {},
   "source": [
    "その他の算術演算も同様である。"
   ]
  },
  {
   "cell_type": "code",
   "execution_count": 17,
   "metadata": {},
   "outputs": [
    {
     "name": "stdout",
     "output_type": "stream",
     "text": [
      "a\n",
      "[[0 1]\n",
      " [2 3]]\n",
      "b\n",
      "[[3. 3.]\n",
      " [3. 3.]]\n",
      "subtraction: a-b\n",
      "[[-3. -2.]\n",
      " [-1.  0.]]\n",
      "element-wise production: a*b\n",
      "[[0. 3.]\n",
      " [6. 9.]]\n",
      "matrix production: a#b\n",
      "[[ 3.  3.]\n",
      " [15. 15.]]\n",
      "a & b\n",
      "[0 1 2 3] [3 4 5 6]\n",
      "dot products of a & b\n",
      "32\n"
     ]
    }
   ],
   "source": [
    "a = np.array(range(4)).reshape(2,2)\n",
    "b = np.ones((2,2))*3\n",
    "print('a')\n",
    "print(a)\n",
    "print('b')\n",
    "print(b)\n",
    "c = a-b\n",
    "print('subtraction: a-b')\n",
    "print(c)\n",
    "print('element-wise production: a*b')\n",
    "c = a*b\n",
    "print(c)\n",
    "print('matrix production: a#b')\n",
    "c = np.matmul(a,b)\n",
    "print(c)\n",
    "\n",
    "a = np.array(range(4))\n",
    "b = np.arange(3,7)\n",
    "print('a & b')\n",
    "print(a,b)\n",
    "print('dot products of a & b')\n",
    "print(np.dot(a,b))"
   ]
  },
  {
   "cell_type": "markdown",
   "metadata": {},
   "source": [
    "## その他の使い方\n",
    "NumPyライブラリには非常に多くの機能が備わっている。全てをここで紹介することはできないので、**これまでの私の経験から**、使用頻度の高いと思われる機能に絞って紹介する。\n",
    "\n",
    "### 乱数の生成\n",
    "一様乱数の場合（0以上1未満）は、\n",
    "\n",
    "```python\n",
    "np.random.random()\n",
    "```\n",
    "\n",
    "で与えられる。"
   ]
  },
  {
   "cell_type": "code",
   "execution_count": 18,
   "metadata": {},
   "outputs": [
    {
     "name": "stdout",
     "output_type": "stream",
     "text": [
      "0.10600871289733504\n",
      "0.5190694686283011\n",
      "0.1690453659720086\n",
      "0.26066276653151843\n",
      "0.3895760563872235\n",
      "0.6030602453051578\n",
      "0.4868178934655184\n",
      "0.14388224049420784\n",
      "0.013366224220175194\n",
      "0.8642449794973442\n"
     ]
    }
   ],
   "source": [
    "for i in range(10):\n",
    "    print(np.random.random())"
   ]
  },
  {
   "cell_type": "markdown",
   "metadata": {},
   "source": [
    "配列として与える場合は\n",
    "```\n",
    "np.random.random(タプル)\n",
    "```\n",
    "のように、タプルで次元と要素数を指定して与える。"
   ]
  },
  {
   "cell_type": "code",
   "execution_count": 19,
   "metadata": {},
   "outputs": [
    {
     "name": "stdout",
     "output_type": "stream",
     "text": [
      "[[0.1739207  0.31995501 0.70074099]\n",
      " [0.01610059 0.63634634 0.12679103]\n",
      " [0.79146479 0.8501174  0.88700553]]\n"
     ]
    }
   ],
   "source": [
    "print(np.random.random((3,3)))"
   ]
  },
  {
   "cell_type": "markdown",
   "metadata": {},
   "source": [
    "毎回同じ乱数を出力するためには、乱数の種を固定をする。"
   ]
  },
  {
   "cell_type": "code",
   "execution_count": 20,
   "metadata": {},
   "outputs": [
    {
     "name": "stdout",
     "output_type": "stream",
     "text": [
      "0.06577940105814328\n",
      "0.2386779245920434\n",
      "0.771320643266746\n",
      "0.771320643266746\n"
     ]
    }
   ],
   "source": [
    "print(np.random.random())\n",
    "print(np.random.random())\n",
    "#input arbitrary integer for random seed\n",
    "np.random.seed(10)\n",
    "print(np.random.random())\n",
    "np.random.seed(10)\n",
    "print(np.random.random())"
   ]
  },
  {
   "cell_type": "markdown",
   "metadata": {},
   "source": [
    "その他正規分布になるような乱数など、複数の乱数の関数が用意されている。詳細は https://numpy.org/doc/stable/reference/random/generator.html を参照のこと。"
   ]
  },
  {
   "cell_type": "markdown",
   "metadata": {
    "tags": []
   },
   "source": [
    "### 総和、平均、分散（標準偏差）、最大、最小\n",
    "配列データの各要素に対して、総和、平均、分散、最大値、最小値などをndarrayのメソッドで求めることができる。"
   ]
  },
  {
   "cell_type": "code",
   "execution_count": 21,
   "metadata": {},
   "outputs": [
    {
     "name": "stdout",
     "output_type": "stream",
     "text": [
      "### Uniform random numbers\n",
      "[0.02075195 0.63364823 0.74880388 ... 0.60450424 0.17820914 0.21905392]\n",
      "\n",
      "Sum of data 49873.683883717764\n",
      "\n",
      "Mean of data (which should be around 0.5) 0.4987368388371776\n",
      "\n",
      "Variance of data 0.083210820436012\n",
      "Standard deviation of data 0.2884628579835054\n",
      "Maximum value of data: 0.9999942472751908 and its index: 98460\n",
      "Minimum value of data: 1.7566729357820776e-06 and its index: 31331\n",
      "\n",
      "\n"
     ]
    }
   ],
   "source": [
    "# number of sampling\n",
    "n = 100000\n",
    "\n",
    "# uniform random numbers\n",
    "data_uni = np.random.random(n)\n",
    "print('### Uniform random numbers')\n",
    "print(data_uni)\n",
    "print()\n",
    "print('Sum of data',data_uni.sum())\n",
    "print()\n",
    "print('Mean of data (which should be around 0.5)',data_uni.mean())\n",
    "print()\n",
    "print('Variance of data',data_uni.var())\n",
    "print('Standard deviation of data',data_uni.std())\n",
    "print('Maximum value of data:',data_uni.max(),'and its index:',data_uni.argmax())\n",
    "print('Minimum value of data:',data_uni.min(),'and its index:',data_uni.argmin())\n",
    "print()\n",
    "print()\n"
   ]
  },
  {
   "cell_type": "markdown",
   "metadata": {
    "tags": []
   },
   "source": [
    "### 配列要素の検索\n",
    "ある条件を満たす配列内の要素を探す場合に使う。\n",
    "\n",
    "```python\n",
    "np.where(配列データ, 条件文)\n",
    "```\n",
    "\n",
    "条件に一致した要素のインデックスが各次元方向にまとめて返される。返された配列を配列要素に入れることで、条件を満たす要素のみを取り出すことができる。"
   ]
  },
  {
   "cell_type": "code",
   "execution_count": 22,
   "metadata": {},
   "outputs": [
    {
     "name": "stdout",
     "output_type": "stream",
     "text": [
      "original data\n",
      "[[-0.96595839  0.39670045  0.3865239 ]\n",
      " [ 0.86695624  0.0902694  -0.28219094]\n",
      " [ 0.40157407  0.62539561 -0.29089087]]\n",
      "\n",
      "data where the condition is satisfied\n",
      "[-0.96595839 -0.28219094 -0.29089087]\n"
     ]
    }
   ],
   "source": [
    "data = 2.0*(np.random.random((3,3))-0.5)\n",
    "print('original data')\n",
    "print(data)\n",
    "print()\n",
    "print('data where the condition is satisfied')\n",
    "print(data[np.where(data<0.0)])"
   ]
  },
  {
   "cell_type": "markdown",
   "metadata": {},
   "source": [
    "## numpy.ndarrayのファイルへの保存とファイルからの読み込み"
   ]
  },
  {
   "cell_type": "markdown",
   "metadata": {},
   "source": [
    "NumPyには独自のファイルフォーマットがあり、簡単にndarrayの配列データをディスクに保存したり、ディスクから読み込んだりすることができる。独自フォーマットなため、主にPythonコード間でのデータのやり取りの範囲で使われる。\n",
    "\n",
    "データの保存は\n",
    "```python\n",
    "np.save('ファイル名.npy',ndarray)\n",
    "```\n",
    "のように行う。拡張子は\".npy\"である。"
   ]
  },
  {
   "cell_type": "code",
   "execution_count": 23,
   "metadata": {},
   "outputs": [
    {
     "name": "stdout",
     "output_type": "stream",
     "text": [
      "['random_data.npy']\n"
     ]
    }
   ],
   "source": [
    "data = np.random.random((100,100))\n",
    "np.save('random_data.npy',data)\n",
    "import glob\n",
    "print(glob.glob('*.npy'))"
   ]
  },
  {
   "cell_type": "markdown",
   "metadata": {},
   "source": [
    "`np.save()`で保存したデータを読み込みたい場合は`np.load()`を使う。"
   ]
  },
  {
   "cell_type": "code",
   "execution_count": 24,
   "metadata": {},
   "outputs": [
    {
     "name": "stdout",
     "output_type": "stream",
     "text": [
      "read data shape\n",
      "(100, 100)\n"
     ]
    }
   ],
   "source": [
    "#initializing the array\n",
    "data = 0\n",
    "data = np.load('random_data.npy')\n",
    "print('read data shape')\n",
    "print(data.shape)\n",
    "\n",
    "#remove created file\n",
    "import os\n",
    "files = glob.glob('*.npy')\n",
    "for fl in files:\n",
    "    os.remove(fl)"
   ]
  },
  {
   "cell_type": "markdown",
   "metadata": {
    "tags": []
   },
   "source": [
    "## 演習課題\n",
    "NumPyモジュールの乱数生成関数を用いて、円周率を近似的に求めてみよう。\n",
    "\n",
    "$0\\le x<1$, $0\\le y<1$の正方形の領域にランダムに座標を決めて、正方形領域内を点で埋めることを考える。充分に多くの点で正方形領域内を埋め、$r=\\sqrt{x^2+y^2} \\le 1$内の点の数（$N(r\\le1)$）と全点数$N$の比を取ることで近似的に円周率$\\pi$を求める。すなわち、\n",
    "\n",
    "$$\n",
    "\\frac{\\pi r^2/4}{1\\times1} = \\frac{\\pi}{4} \\approx \\frac{N(r\\le1)}{N}\n",
    "$$\n",
    "\n",
    "![](./img/mc_pi.png)\n",
    "\n",
    "上図では、$r\\le 1$の点を赤で、$r > 1$の点を青でプロットし、その様子を可視化している。（図の作成は課題ではなく、あくまでどのように点を打っているかを理解してもらうための図である。）\n",
    "\n",
    "$N$を$10, 100, 1000, 10000$と変え、それぞれ近似的に求めた円周率を出力するプログラムを作成してください。"
   ]
  }
 ],
 "metadata": {
  "kernelspec": {
   "display_name": "Python 3 (ipykernel)",
   "language": "python",
   "name": "python3"
  },
  "language_info": {
   "codemirror_mode": {
    "name": "ipython",
    "version": 3
   },
   "file_extension": ".py",
   "mimetype": "text/x-python",
   "name": "python",
   "nbconvert_exporter": "python",
   "pygments_lexer": "ipython3",
   "version": "3.7.16"
  }
 },
 "nbformat": 4,
 "nbformat_minor": 4
}
